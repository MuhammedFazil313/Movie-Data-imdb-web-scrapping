{
  "nbformat": 4,
  "nbformat_minor": 0,
  "metadata": {
    "colab": {
      "name": "Movie Details imdb Web Scrapping.ipynb",
      "provenance": [],
      "authorship_tag": "ABX9TyMSWZBLN+XrjQmsYqD5eNUB",
      "include_colab_link": true
    },
    "kernelspec": {
      "name": "python3",
      "display_name": "Python 3"
    },
    "language_info": {
      "name": "python"
    }
  },
  "cells": [
    {
      "cell_type": "markdown",
      "metadata": {
        "id": "view-in-github",
        "colab_type": "text"
      },
      "source": [
        "<a href=\"https://colab.research.google.com/github/MuhammedFazil313/Movie-Data-imdb-web-scrapping/blob/main/Movie_Details_imdb_Web_Scrapping.ipynb\" target=\"_parent\"><img src=\"https://colab.research.google.com/assets/colab-badge.svg\" alt=\"Open In Colab\"/></a>"
      ]
    },
    {
      "cell_type": "code",
      "metadata": {
        "id": "tdAF8q2Kx9ar"
      },
      "source": [
        "import requests\n",
        "from bs4 import BeautifulSoup\n",
        "import pandas as pd\n",
        "from time import sleep\n",
        "from random import randint\n",
        "from IPython.display import clear_output"
      ],
      "execution_count": null,
      "outputs": []
    },
    {
      "cell_type": "code",
      "metadata": {
        "id": "DJTUw5KSyrG3"
      },
      "source": [
        "#https://www.imdb.com/search/title/?release_date=2021-01-01,2021-12-31&sort=num_votes,desc&start=51&ref_=adv_nxt\n",
        "#https://www.imdb.com/search/title/?release_date=2021-01-01,2021-12-31&sort=num_votes,desc&start=101&ref_=adv_nxt\n",
        "#https://www.imdb.com/search/title/?release_date=2021-01-01,2021-12-31&sort=num_votes,desc&start=151&ref_=adv_nxt"
      ],
      "execution_count": null,
      "outputs": []
    },
    {
      "cell_type": "code",
      "metadata": {
        "id": "tIpV1At3yryV"
      },
      "source": [
        "base_url = 'https://www.imdb.com/search/title/?release_date=2021-01-01,2021-12-31&sort=num_votes,desc&start='"
      ],
      "execution_count": null,
      "outputs": []
    },
    {
      "cell_type": "code",
      "metadata": {
        "colab": {
          "base_uri": "https://localhost:8080/"
        },
        "id": "fcwMyFTOy2Mc",
        "outputId": "29212267-5e2b-4137-cda2-178b5700ba39"
      },
      "source": [
        "names = []\n",
        "release_years = []\n",
        "certificates = []\n",
        "durations = []\n",
        "genres = []\n",
        "imdb_ratings = []\n",
        "metascores = []\n",
        "votes = []\n",
        "\n",
        "movie_no = 1\n",
        "\n",
        "for i in range(1,1500,50):\n",
        "  sleep(randint(3,7))\n",
        "  req = requests.get(base_url+str(i)+'&ref_=adv_nxt',headers = {'Accept-Language':'en-US, en;q=0.5'})\n",
        "  soup = BeautifulSoup(req.text,'html')\n",
        "\n",
        "  if movie_no > 1050:\n",
        "    break\n",
        "\n",
        "  #taking each movie in a list\n",
        "  movies_info = soup.findAll('div',attrs={'class':'lister-item-content'})\n",
        "\n",
        "  # loopin through each movie to collect details \n",
        "  for movie in movies_info:\n",
        "\n",
        "    print(f'scrapping data of movie {movie_no}')\n",
        "    clear_output(wait=True)\n",
        "\n",
        "    if movie_no > 1050:\n",
        "      break\n",
        "\n",
        "    movie_no += 1\n",
        "  \n",
        "    #movie name\n",
        "    movie_name = movie.find('h3',attrs={'class':'lister-item-header'})\n",
        "    if movie_name is None:\n",
        "      names.append('Not Available')\n",
        "    else:\n",
        "      names.append(movie_name.a.text)\n",
        "\n",
        "    #release year\n",
        "    release_year = movie.find('span',attrs={'class':'lister-item-year text-muted unbold'})\n",
        "    if release_year is None:\n",
        "      release_years.append('Not Available')\n",
        "    else:\n",
        "      release_years.append(release_year.text)\n",
        "\n",
        "    #certificate\n",
        "    certificate = movie.find('span',attrs={'class':'certificate'})\n",
        "    if certificate is None:\n",
        "      certificates.append(\"Not Available\")\n",
        "    else:\n",
        "      certificates.append(certificate.text)\n",
        "  \n",
        "    #duration\n",
        "    duration = movie.find('span',attrs={'class':'runtime'})\n",
        "    if duration is None:\n",
        "      durations.append(\"Not Available\")\n",
        "    else:\n",
        "      durations.append(duration.text)\n",
        "\n",
        "    #genre\n",
        "    genre = movie.find('span',attrs={'class':'genre'})\n",
        "    if genre is None:\n",
        "      genres.append('Not Available')\n",
        "    else:\n",
        "      genres.append(genre.text.strip())\n",
        "\n",
        "    #IMDB\n",
        "    imdb = movie.find('div',attrs={'class':'inline-block ratings-imdb-rating'})\n",
        "    if imdb is None:\n",
        "      imdb_ratings.append('Not Available')\n",
        "    else:\n",
        "      imdb_ratings.append(imdb.strong.text)\n",
        "\n",
        "    #metascore\n",
        "    metascore = movie.find('div',attrs={'class':'inline-block ratings-metascore'})\n",
        "    if metascore is None:\n",
        "      metascores.append(\"Not Available\")\n",
        "    else:\n",
        "      metascores.append(metascore.span.text.strip())\n",
        "  \n",
        "    #votes\n",
        "    vote = movie.find('span',attrs={'name':'nv'})\n",
        "    if vote is None:\n",
        "      votes.append('Not Available')\n",
        "    else:\n",
        "      votes.append(vote.text)"
      ],
      "execution_count": null,
      "outputs": [
        {
          "output_type": "stream",
          "text": [
            "scrapping data of movie 1050\n"
          ],
          "name": "stdout"
        }
      ]
    },
    {
      "cell_type": "code",
      "metadata": {
        "colab": {
          "base_uri": "https://localhost:8080/"
        },
        "id": "_9clffHFzcwM",
        "outputId": "3a506ff0-478a-4f7f-fec7-fc54a6df1b47"
      },
      "source": [
        "# checking whether length of each column are same for creating the dataframe\n",
        "\n",
        "print(len(names))\n",
        "print(len(release_years))\n",
        "print(len(certificates))\n",
        "print(len(durations))\n",
        "print(len(genres))\n",
        "print(len(imdb_ratings))\n",
        "print(len(metascores))\n",
        "print(len(votes))"
      ],
      "execution_count": null,
      "outputs": [
        {
          "output_type": "stream",
          "text": [
            "1050\n",
            "1050\n",
            "1050\n",
            "1050\n",
            "1050\n",
            "1050\n",
            "1050\n",
            "1050\n"
          ],
          "name": "stdout"
        }
      ]
    },
    {
      "cell_type": "code",
      "metadata": {
        "colab": {
          "base_uri": "https://localhost:8080/",
          "height": 419
        },
        "id": "tYTdTrgHzg8F",
        "outputId": "2fd5de3a-b781-4501-a1bc-47d0b8a89d23"
      },
      "source": [
        "df = pd.DataFrame({'Movie':names,\n",
        "                   'Release Year':release_years,\n",
        "                   'Certification':certificates,\n",
        "                   'Duration':durations,\n",
        "                   'Genre':genres,\n",
        "                   'Imdb':imdb_ratings,\n",
        "                   'Metascore':metascores,\n",
        "                   'Votes':votes})\n",
        "df"
      ],
      "execution_count": null,
      "outputs": [
        {
          "output_type": "execute_result",
          "data": {
            "text/html": [
              "<div>\n",
              "<style scoped>\n",
              "    .dataframe tbody tr th:only-of-type {\n",
              "        vertical-align: middle;\n",
              "    }\n",
              "\n",
              "    .dataframe tbody tr th {\n",
              "        vertical-align: top;\n",
              "    }\n",
              "\n",
              "    .dataframe thead th {\n",
              "        text-align: right;\n",
              "    }\n",
              "</style>\n",
              "<table border=\"1\" class=\"dataframe\">\n",
              "  <thead>\n",
              "    <tr style=\"text-align: right;\">\n",
              "      <th></th>\n",
              "      <th>Movie</th>\n",
              "      <th>Release Year</th>\n",
              "      <th>Certification</th>\n",
              "      <th>Duration</th>\n",
              "      <th>Genre</th>\n",
              "      <th>Imdb</th>\n",
              "      <th>Metascore</th>\n",
              "      <th>Votes</th>\n",
              "    </tr>\n",
              "  </thead>\n",
              "  <tbody>\n",
              "    <tr>\n",
              "      <th>0</th>\n",
              "      <td>Zack Snyder's Justice League</td>\n",
              "      <td>(2021)</td>\n",
              "      <td>R</td>\n",
              "      <td>242 min</td>\n",
              "      <td>Action, Adventure, Fantasy</td>\n",
              "      <td>8.1</td>\n",
              "      <td>54</td>\n",
              "      <td>311,293</td>\n",
              "    </tr>\n",
              "    <tr>\n",
              "      <th>1</th>\n",
              "      <td>Aspirants</td>\n",
              "      <td>(2021– )</td>\n",
              "      <td>Not Available</td>\n",
              "      <td>45 min</td>\n",
              "      <td>Drama</td>\n",
              "      <td>9.7</td>\n",
              "      <td>Not Available</td>\n",
              "      <td>273,341</td>\n",
              "    </tr>\n",
              "    <tr>\n",
              "      <th>2</th>\n",
              "      <td>WandaVision</td>\n",
              "      <td>(2021)</td>\n",
              "      <td>TV-PG</td>\n",
              "      <td>350 min</td>\n",
              "      <td>Action, Comedy, Drama</td>\n",
              "      <td>8.0</td>\n",
              "      <td>Not Available</td>\n",
              "      <td>193,223</td>\n",
              "    </tr>\n",
              "    <tr>\n",
              "      <th>3</th>\n",
              "      <td>Radhe</td>\n",
              "      <td>(2021)</td>\n",
              "      <td>TV-MA</td>\n",
              "      <td>135 min</td>\n",
              "      <td>Action, Crime, Thriller</td>\n",
              "      <td>1.8</td>\n",
              "      <td>Not Available</td>\n",
              "      <td>164,166</td>\n",
              "    </tr>\n",
              "    <tr>\n",
              "      <th>4</th>\n",
              "      <td>Godzilla vs. Kong</td>\n",
              "      <td>(2021)</td>\n",
              "      <td>PG-13</td>\n",
              "      <td>113 min</td>\n",
              "      <td>Action, Sci-Fi, Thriller</td>\n",
              "      <td>6.4</td>\n",
              "      <td>59</td>\n",
              "      <td>151,856</td>\n",
              "    </tr>\n",
              "    <tr>\n",
              "      <th>...</th>\n",
              "      <td>...</td>\n",
              "      <td>...</td>\n",
              "      <td>...</td>\n",
              "      <td>...</td>\n",
              "      <td>...</td>\n",
              "      <td>...</td>\n",
              "      <td>...</td>\n",
              "      <td>...</td>\n",
              "    </tr>\n",
              "    <tr>\n",
              "      <th>1045</th>\n",
              "      <td>Elite</td>\n",
              "      <td>(2018– )</td>\n",
              "      <td>TV-MA</td>\n",
              "      <td>54 min</td>\n",
              "      <td>Crime, Drama, Thriller</td>\n",
              "      <td>7.3</td>\n",
              "      <td>Not Available</td>\n",
              "      <td>723</td>\n",
              "    </tr>\n",
              "    <tr>\n",
              "      <th>1046</th>\n",
              "      <td>A Discovery of Witches</td>\n",
              "      <td>(2018– )</td>\n",
              "      <td>TV-MA</td>\n",
              "      <td>Not Available</td>\n",
              "      <td>Drama, Fantasy, Romance</td>\n",
              "      <td>8.0</td>\n",
              "      <td>Not Available</td>\n",
              "      <td>723</td>\n",
              "    </tr>\n",
              "    <tr>\n",
              "      <th>1047</th>\n",
              "      <td>Riverdale</td>\n",
              "      <td>(2017– )</td>\n",
              "      <td>TV-14</td>\n",
              "      <td>42 min</td>\n",
              "      <td>Crime, Drama, Mystery</td>\n",
              "      <td>5.8</td>\n",
              "      <td>Not Available</td>\n",
              "      <td>721</td>\n",
              "    </tr>\n",
              "    <tr>\n",
              "      <th>1048</th>\n",
              "      <td>Ee Kathalo Paathralu Kalpitam</td>\n",
              "      <td>(2021)</td>\n",
              "      <td>Not Available</td>\n",
              "      <td>119 min</td>\n",
              "      <td>Drama, Thriller</td>\n",
              "      <td>7.1</td>\n",
              "      <td>Not Available</td>\n",
              "      <td>721</td>\n",
              "    </tr>\n",
              "    <tr>\n",
              "      <th>1049</th>\n",
              "      <td>For All Mankind</td>\n",
              "      <td>(2019– )</td>\n",
              "      <td>TV-MA</td>\n",
              "      <td>56 min</td>\n",
              "      <td>Drama, Sci-Fi</td>\n",
              "      <td>8.1</td>\n",
              "      <td>Not Available</td>\n",
              "      <td>720</td>\n",
              "    </tr>\n",
              "  </tbody>\n",
              "</table>\n",
              "<p>1050 rows × 8 columns</p>\n",
              "</div>"
            ],
            "text/plain": [
              "                              Movie Release Year  ...      Metascore    Votes\n",
              "0      Zack Snyder's Justice League       (2021)  ...             54  311,293\n",
              "1                         Aspirants     (2021– )  ...  Not Available  273,341\n",
              "2                       WandaVision       (2021)  ...  Not Available  193,223\n",
              "3                             Radhe       (2021)  ...  Not Available  164,166\n",
              "4                 Godzilla vs. Kong       (2021)  ...             59  151,856\n",
              "...                             ...          ...  ...            ...      ...\n",
              "1045                          Elite     (2018– )  ...  Not Available      723\n",
              "1046         A Discovery of Witches     (2018– )  ...  Not Available      723\n",
              "1047                      Riverdale     (2017– )  ...  Not Available      721\n",
              "1048  Ee Kathalo Paathralu Kalpitam       (2021)  ...  Not Available      721\n",
              "1049                For All Mankind     (2019– )  ...  Not Available      720\n",
              "\n",
              "[1050 rows x 8 columns]"
            ]
          },
          "metadata": {
            "tags": []
          },
          "execution_count": 6
        }
      ]
    },
    {
      "cell_type": "code",
      "metadata": {
        "id": "flHx6s3EzkQc"
      },
      "source": [
        "df.to_csv('movie details.csv')"
      ],
      "execution_count": null,
      "outputs": []
    }
  ]
}